{
 "cells": [
  {
   "cell_type": "markdown",
   "id": "0d05bc92-67ef-44c0-8dc0-a823e1868ae1",
   "metadata": {},
   "source": [
    "# <b> Data Processing Practice with PySpark and SparkSQL"
   ]
  },
  {
   "cell_type": "markdown",
   "id": "a09ed3a8-35f7-4257-9434-a92fc94b5eff",
   "metadata": {},
   "source": [
    "## Nhập về thư viện cần thiết và thực hiện cấu hình/điều chỉnh cho phù hợp với máy"
   ]
  },
  {
   "cell_type": "markdown",
   "id": "a323d236-77ca-4c3d-820b-f20e548d2043",
   "metadata": {},
   "source": [
    "### Nhập thư viện"
   ]
  },
  {
   "cell_type": "code",
   "execution_count": 93,
   "id": "28eac5e2-829d-462b-a953-d0442754b287",
   "metadata": {},
   "outputs": [],
   "source": [
    "#cái này là để nó không cảnh báo khi sử dụng pyspark.pandas, mà thư viện phụ thuộc vào pyarrow nên cần set về 1 cho nó đỡ càm ràm\n",
    "import os\n",
    "os.environ[\"PYARROW_IGNORE_TIMEZONE\"] = \"1\""
   ]
  },
  {
   "cell_type": "code",
   "execution_count": 265,
   "id": "856256cc-3305-47c0-9284-af5e17b4d9b0",
   "metadata": {},
   "outputs": [],
   "source": [
    "#import mấy thư viện cần thiết\n",
    "from pyspark.sql import SparkSession\n",
    "import pyspark.pandas as ps\n",
    "from pyspark.sql.functions import col, isnan, when, count, desc, mean\n",
    "import pandas as pd"
   ]
  },
  {
   "cell_type": "markdown",
   "id": "daa7ef6d-3af2-4225-a7fc-97eb46dd6261",
   "metadata": {},
   "source": [
    "### Cấu hình"
   ]
  },
  {
   "cell_type": "code",
   "execution_count": 98,
   "id": "506ed487-ae26-41ab-89b3-12c67e08bc4a",
   "metadata": {},
   "outputs": [],
   "source": [
    "#cấu hình Spark cho phù hợp với máy tính (ps: máy tính công ty nên yếu si lýnh)\n",
    "spark = (SparkSession.builder\n",
    "         .config(\"spark.driver.memory\", \"4g\")\n",
    "         .config(\"spark.sql.execution.arrow.maxRecordsPerBatch\", \"50000\")\n",
    "         .config(\"spark.sql.shuffle.partitions\", \"8\")\n",
    "         .config(\"spark.network.timeout\", \"600s\")\n",
    "         .getOrCreate()\n",
    ")"
   ]
  },
  {
   "cell_type": "markdown",
   "id": "eba88131-cda6-453c-9784-fa8ac872f0a9",
   "metadata": {},
   "source": [
    "## Đọc file .csv"
   ]
  },
  {
   "cell_type": "code",
   "execution_count": 101,
   "id": "6adc9fbf-b443-41c8-9a22-77431cf6d97a",
   "metadata": {},
   "outputs": [
    {
     "name": "stdout",
     "output_type": "stream",
     "text": [
      "+---------+----------+---------+-----------+---------+------+-----+------+---------+-------------+---------+--------------+---------------+------+\n",
      "|RowNumber|CustomerId|  Surname|CreditScore|Geography|Gender|  Age|Tenure|  Balance|NumOfProducts|HasCrCard|IsActiveMember|EstimatedSalary|Exited|\n",
      "+---------+----------+---------+-----------+---------+------+-----+------+---------+-------------+---------+--------------+---------------+------+\n",
      "|        1|  15634602| Hargrave|        619|   France|Female| 42.0|     2|      0.0|            1|        1|             1|      101348.88|     1|\n",
      "|        2|  15647311|     Hill|        608|    Spain|Female| 41.0|     1| 83807.86|            1|        0|             1|      112542.58|     0|\n",
      "|        3|  15619304|     Onio|        502|   France|Female| 42.0|     8| 159660.8|            3|        1|             0|      113931.57|     1|\n",
      "|        4|  15701354|     Boni|        699|   France|Female| 39.0|     1|      0.0|            2|        0|             0|       93826.63|     0|\n",
      "|        5|  15737888| Mitchell|        850|    Spain|Female| 43.0|     2|125510.82|            1|     NULL|             1|        79084.1|     0|\n",
      "|        6|  15574012|      Chu|        645|    Spain|  Male| 44.0|     8|113755.78|            2|        1|             0|      149756.71|     1|\n",
      "|        7|  15592531| Bartlett|        822|     NULL|  Male| 50.0|     7|      0.0|            2|        1|             1|        10062.8|     0|\n",
      "|        8|  15656148|   Obinna|        376|  Germany|Female| 29.0|     4|115046.74|            4|        1|             0|      119346.88|     1|\n",
      "|        9|  15792365|       He|        501|   France|  Male| 44.0|     4|142051.07|            2|        0|          NULL|        74940.5|     0|\n",
      "|       10|  15592389|       H?|        684|   France|  Male| NULL|     2|134603.88|            1|        1|             1|       71725.73|     0|\n",
      "|       11|  15767821|   Bearce|        528|   France|  Male| 31.0|     6|102016.72|            2|        0|             0|       80181.12|     0|\n",
      "|       12|  15737173|  Andrews|        497|    Spain|  Male| 24.0|     3|      0.0|            2|        1|             0|       76390.01|     0|\n",
      "|       13|  15632264|      Kay|        476|   France|Female| 34.0|    10|      0.0|            2|        1|             0|       26260.98|     0|\n",
      "|       14|  15691483|     Chin|        549|   France|Female| 25.0|     5|      0.0|            2|        0|             0|      190857.79|     0|\n",
      "|       15|  15600882|    Scott|        635|    Spain|Female| 35.0|     7|      0.0|            2|        1|             1|       65951.65|     0|\n",
      "|       16|  15643966|  Goforth|        616|  Germany|  Male| 45.0|     3|143129.41|            2|        0|             1|       64327.26|     0|\n",
      "|       17|  15737452|    Romeo|        653|  Germany|  Male| 58.0|     1|132602.88|            1|        1|             0|        5097.67|     1|\n",
      "|       18|  15788218|Henderson|        549|    Spain|Female| 24.0|     9|      0.0|            2|        1|             1|       14406.41|     0|\n",
      "|       19|  15661507|  Muldrow|        587|    Spain|  Male|45.25|     6|      0.0|            1|        0|             0|      158684.81|     0|\n",
      "|       20|  15568982|      Hao|        726|   France|Female| 24.0|     6|      0.0|            2|        1|             1|       54724.03|     0|\n",
      "+---------+----------+---------+-----------+---------+------+-----+------+---------+-------------+---------+--------------+---------------+------+\n",
      "only showing top 20 rows\n",
      "\n"
     ]
    }
   ],
   "source": [
    "#mới nhảy qua chơi món Spark nên chưa quen việc thêm .show() đằng sau lắm; cái inferSchema cũng quan trọng nha, \n",
    "#cái này sẽ phải đọc thêm về cách Spark nó xử lý, cơ mà đọc trên stackoverflow, hiểu đơn giản là không thêm vào \n",
    "#nó bị thành hết String tại Spark lười\n",
    "df = spark.read.csv('/Users/Alpha/datasets/Churn_Modelling.csv', inferSchema = True, header = True)\n",
    "df.show()"
   ]
  },
  {
   "cell_type": "markdown",
   "id": "9b23a1ca-eda2-40c1-8767-5a1c983cdfdc",
   "metadata": {},
   "source": [
    "## Làm sạch dữ liệu"
   ]
  },
  {
   "cell_type": "markdown",
   "id": "1f9dc9eb-4bcc-4462-8ef9-4b95729b8738",
   "metadata": {},
   "source": [
    "### 1. Kiểm tra Schema, Casting và đổi tên cột cho dễ hiểu"
   ]
  },
  {
   "cell_type": "code",
   "execution_count": 105,
   "id": "545d191d-57b3-4d15-8e6e-7585a63143b6",
   "metadata": {},
   "outputs": [
    {
     "name": "stdout",
     "output_type": "stream",
     "text": [
      "root\n",
      " |-- RowNumber: integer (nullable = true)\n",
      " |-- CustomerId: integer (nullable = true)\n",
      " |-- Surname: string (nullable = true)\n",
      " |-- CreditScore: integer (nullable = true)\n",
      " |-- Geography: string (nullable = true)\n",
      " |-- Gender: string (nullable = true)\n",
      " |-- Age: double (nullable = true)\n",
      " |-- Tenure: integer (nullable = true)\n",
      " |-- Balance: double (nullable = true)\n",
      " |-- NumOfProducts: integer (nullable = true)\n",
      " |-- HasCrCard: integer (nullable = true)\n",
      " |-- IsActiveMember: integer (nullable = true)\n",
      " |-- EstimatedSalary: double (nullable = true)\n",
      " |-- Exited: integer (nullable = true)\n",
      "\n"
     ]
    }
   ],
   "source": [
    "#check Schema của các cột trong dữ liệu, có vẻ các cột đều khá oke\n",
    "df.printSchema()"
   ]
  },
  {
   "cell_type": "markdown",
   "id": "dbb19b5d-3be9-445e-bff1-ebbb1cd1466b",
   "metadata": {},
   "source": [
    "Ở đây hầu như cột nào tên cũng bắt đầu bằng chữ viết hoa, để nguyên thì khéo nó loạn nhà luôn."
   ]
  },
  {
   "cell_type": "markdown",
   "id": "6c4e9f47-515f-4c08-8808-173db3128a16",
   "metadata": {},
   "source": [
    "Ngoải ra thì cột 'Age' đang bị sai kiểu dữ liệu, nhiều cột đọc xong chưa hiểu ngay nó là cái gì, ví dụ như <b> 'CrCard' </b> thì khá khó hiểu ra là Credit Card nên cần đổi tên kha khá."
   ]
  },
  {
   "cell_type": "code",
   "execution_count": 109,
   "id": "90ed5e36-1757-423d-b47d-863940b4f1cf",
   "metadata": {},
   "outputs": [],
   "source": [
    "#thực hiện chuyển kiểu dữ liệu và đổi tên các cột để đọc dễ hiểu hơn\n",
    "bank_churned_casting = df.select(\n",
    "    col('CustomerId').cast('integer').alias('customer_id')\n",
    "    , col('Surname').cast('string').alias('surname')\n",
    "    , col('CreditScore').cast('integer').alias('credit_score')\n",
    "    , col('Geography').cast('string').alias('home_country')\n",
    "    , col('Gender').cast('string').alias('gender')\n",
    "    , col('Age').cast('integer').alias('age')\n",
    "    , col('Tenure').cast('integer').alias('years_stayed')\n",
    "    , col('Balance').cast('double').alias('bank_balance')\n",
    "    , col('NumOfProducts').cast('integer').alias('no_products_used')\n",
    "    , col('HasCrCard').cast('integer').alias('hasCreditCard')\n",
    "    , col('IsActiveMember').cast('integer').alias('isActive')\n",
    "    , col('EstimatedSalary').cast('double').alias('salary')\n",
    "    , col('Exited').cast('integer').alias('isChurned')\n",
    ")"
   ]
  },
  {
   "cell_type": "code",
   "execution_count": 111,
   "id": "25f71b43-d489-4337-a0fd-481d1da583cd",
   "metadata": {},
   "outputs": [
    {
     "name": "stdout",
     "output_type": "stream",
     "text": [
      "+-----------+---------+------------+------------+------+----+------------+------------+----------------+-------------+--------+---------+---------+\n",
      "|customer_id|  surname|credit_score|home_country|gender| age|years_stayed|bank_balance|no_products_used|hasCreditCard|isActive|   salary|isChurned|\n",
      "+-----------+---------+------------+------------+------+----+------------+------------+----------------+-------------+--------+---------+---------+\n",
      "|   15634602| Hargrave|         619|      France|Female|  42|           2|         0.0|               1|            1|       1|101348.88|        1|\n",
      "|   15647311|     Hill|         608|       Spain|Female|  41|           1|    83807.86|               1|            0|       1|112542.58|        0|\n",
      "|   15619304|     Onio|         502|      France|Female|  42|           8|    159660.8|               3|            1|       0|113931.57|        1|\n",
      "|   15701354|     Boni|         699|      France|Female|  39|           1|         0.0|               2|            0|       0| 93826.63|        0|\n",
      "|   15737888| Mitchell|         850|       Spain|Female|  43|           2|   125510.82|               1|         NULL|       1|  79084.1|        0|\n",
      "|   15574012|      Chu|         645|       Spain|  Male|  44|           8|   113755.78|               2|            1|       0|149756.71|        1|\n",
      "|   15592531| Bartlett|         822|        NULL|  Male|  50|           7|         0.0|               2|            1|       1|  10062.8|        0|\n",
      "|   15656148|   Obinna|         376|     Germany|Female|  29|           4|   115046.74|               4|            1|       0|119346.88|        1|\n",
      "|   15792365|       He|         501|      France|  Male|  44|           4|   142051.07|               2|            0|    NULL|  74940.5|        0|\n",
      "|   15592389|       H?|         684|      France|  Male|NULL|           2|   134603.88|               1|            1|       1| 71725.73|        0|\n",
      "|   15767821|   Bearce|         528|      France|  Male|  31|           6|   102016.72|               2|            0|       0| 80181.12|        0|\n",
      "|   15737173|  Andrews|         497|       Spain|  Male|  24|           3|         0.0|               2|            1|       0| 76390.01|        0|\n",
      "|   15632264|      Kay|         476|      France|Female|  34|          10|         0.0|               2|            1|       0| 26260.98|        0|\n",
      "|   15691483|     Chin|         549|      France|Female|  25|           5|         0.0|               2|            0|       0|190857.79|        0|\n",
      "|   15600882|    Scott|         635|       Spain|Female|  35|           7|         0.0|               2|            1|       1| 65951.65|        0|\n",
      "|   15643966|  Goforth|         616|     Germany|  Male|  45|           3|   143129.41|               2|            0|       1| 64327.26|        0|\n",
      "|   15737452|    Romeo|         653|     Germany|  Male|  58|           1|   132602.88|               1|            1|       0|  5097.67|        1|\n",
      "|   15788218|Henderson|         549|       Spain|Female|  24|           9|         0.0|               2|            1|       1| 14406.41|        0|\n",
      "|   15661507|  Muldrow|         587|       Spain|  Male|  45|           6|         0.0|               1|            0|       0|158684.81|        0|\n",
      "|   15568982|      Hao|         726|      France|Female|  24|           6|         0.0|               2|            1|       1| 54724.03|        0|\n",
      "+-----------+---------+------------+------------+------+----+------------+------------+----------------+-------------+--------+---------+---------+\n",
      "only showing top 20 rows\n",
      "\n"
     ]
    }
   ],
   "source": [
    "#thành quả\n",
    "bank_churned_casting.show()"
   ]
  },
  {
   "cell_type": "code",
   "execution_count": 113,
   "id": "57f84f14-3df3-4c8b-a61a-01a6c19b3be1",
   "metadata": {},
   "outputs": [
    {
     "name": "stdout",
     "output_type": "stream",
     "text": [
      "root\n",
      " |-- customer_id: integer (nullable = true)\n",
      " |-- surname: string (nullable = true)\n",
      " |-- credit_score: integer (nullable = true)\n",
      " |-- home_country: string (nullable = true)\n",
      " |-- gender: string (nullable = true)\n",
      " |-- age: integer (nullable = true)\n",
      " |-- years_stayed: integer (nullable = true)\n",
      " |-- bank_balance: double (nullable = true)\n",
      " |-- no_products_used: integer (nullable = true)\n",
      " |-- hasCreditCard: integer (nullable = true)\n",
      " |-- isActive: integer (nullable = true)\n",
      " |-- salary: double (nullable = true)\n",
      " |-- isChurned: integer (nullable = true)\n",
      "\n"
     ]
    }
   ],
   "source": [
    "#check lại Schema\n",
    "bank_churned_casting.printSchema()"
   ]
  },
  {
   "cell_type": "markdown",
   "id": "0478040a-a08c-4814-827d-f94980a6efa0",
   "metadata": {},
   "source": [
    "### 2. Kiểm tra trùng lặp"
   ]
  },
  {
   "cell_type": "markdown",
   "id": "6da9d3d2-afd7-4ad9-a129-dbc8a0f7de84",
   "metadata": {},
   "source": [
    "Mỗi khách hàng thì chỉ có một id thôi, khó mà có 2 khách đồng quy được. Thế nên là bỏ lặp đi để data nó đẹp hơn."
   ]
  },
  {
   "cell_type": "code",
   "execution_count": 117,
   "id": "218e5684-25d7-4277-aff2-bc15e3b1a9f8",
   "metadata": {},
   "outputs": [
    {
     "data": {
      "text/plain": [
       "[Row(customer_id=15682355), Row(customer_id=15628319)]"
      ]
     },
     "execution_count": 117,
     "metadata": {},
     "output_type": "execute_result"
    }
   ],
   "source": [
    "#nếu dùng sql nhiều rồi thì bước này cũng ez, cơ mà giải thích thì là đếm theo các dòng (bên dưới ghi columns hem, thực sự nó là\n",
    "#group theo giá trị của cột đó, chứ đừng hiểu là gộp thành hết một cột rồi đếm), và xem dòng nào xuất hiện nhiều hơn một lần thôi\n",
    "bank_churned_duplicates = bank_churned_casting.groupBy(bank_churned_casting.columns).count().filter(\"count > 1\")\n",
    "\n",
    "#đoạn này thì xem những id nào đang là id bị lặp ấy, thì mấy id xuất hiện nhiều hơn 1 là đang lặp rồi\n",
    "#cái note là đối với kiểu dữ liệu columns trong spark thì cần collect() để nhận dữ liệu\n",
    "bank_churned_duplicates_id = bank_churned_duplicates.select('customer_id').collect()\n",
    "bank_churned_duplicates_id"
   ]
  },
  {
   "cell_type": "code",
   "execution_count": 119,
   "id": "5a9b9f6b-a74d-49e9-aac2-49a00e514737",
   "metadata": {},
   "outputs": [
    {
     "name": "stdout",
     "output_type": "stream",
     "text": [
      "+-----------+---------+------------+------------+------+---+------------+------------+----------------+-------------+--------+--------+---------+\n",
      "|customer_id|  surname|credit_score|home_country|gender|age|years_stayed|bank_balance|no_products_used|hasCreditCard|isActive|  salary|isChurned|\n",
      "+-----------+---------+------------+------------+------+---+------------+------------+----------------+-------------+--------+--------+---------+\n",
      "|   15682355|Sabbatini|         772|     Germany|  Male| 42|           3|    75075.31|               2|            1|       0|92888.52|        1|\n",
      "|   15682355|Sabbatini|         772|     Germany|  Male| 42|           3|    75075.31|               2|            1|       0|92888.52|        1|\n",
      "|   15628319|   Walker|         792|      France|Female| 28|           4|   130142.79|               1|            1|       0|38190.78|        0|\n",
      "|   15628319|   Walker|         792|      France|Female| 28|           4|   130142.79|               1|            1|       0|38190.78|        0|\n",
      "+-----------+---------+------------+------------+------+---+------------+------------+----------------+-------------+--------+--------+---------+\n",
      "\n"
     ]
    }
   ],
   "source": [
    "#giờ check dòng có id bị lặp xem máy nó bị dở hơi hay lặp thật\n",
    "bank_churned_casting.filter(bank_churned_casting['customer_id'].isin(bank_churned_duplicates_list)).show()"
   ]
  },
  {
   "cell_type": "markdown",
   "id": "fc732692-cf6e-4804-b8c4-115495fd0f02",
   "metadata": {},
   "source": [
    "Lặp thật."
   ]
  },
  {
   "cell_type": "code",
   "execution_count": 122,
   "id": "ebecf5fb-b84d-4130-82f5-ef6f185dfad9",
   "metadata": {},
   "outputs": [
    {
     "data": {
      "text/plain": [
       "[15682355, 15628319]"
      ]
     },
     "execution_count": 122,
     "metadata": {},
     "output_type": "execute_result"
    }
   ],
   "source": [
    "#cơ mà mấy cái id đang bị vướng, nó ở dạng list rồi cơ mà chưa lấy ra được\n",
    "#đoạn này thì nên hiểu là nếu khai báo thứ tự dòng xong chain nó với tên cột thì sẽ ra giá trị bên trong\n",
    "#vd, cop dòng dưới này sang một cell khác rồi chạy thử nhé\n",
    "# bank_churned_duplicates_id[0].customer_id ==> kết quả: 15682355 \n",
    "\n",
    "#đoạn này chạy để nó ra cái mình cần thôi, báo là row để chạy lặp cho dễ hiểu thôi chứ thực chất cứ hiểu là \n",
    "#lấy giá trị từ list ra, mà cái này chạy vòng lặp python cơ bản rồi =)))\n",
    "bank_churned_duplicates_list = [int(row.customer_id) for row in bank_churned_duplicates_id]\n",
    "\n",
    "#đoạn này thì là list rồi có số má ngon rồi\n",
    "bank_churned_duplicates_list"
   ]
  },
  {
   "cell_type": "code",
   "execution_count": 124,
   "id": "a0d62490-97b5-4439-ab03-71368f438b9a",
   "metadata": {},
   "outputs": [
    {
     "name": "stdout",
     "output_type": "stream",
     "text": [
      "+-----------+---------+------------+------------+------+---+------------+------------+----------------+-------------+--------+---------+---------+\n",
      "|customer_id|  surname|credit_score|home_country|gender|age|years_stayed|bank_balance|no_products_used|hasCreditCard|isActive|   salary|isChurned|\n",
      "+-----------+---------+------------+------------+------+---+------------+------------+----------------+-------------+--------+---------+---------+\n",
      "|   15701354|     Boni|         699|      France|Female| 39|           1|         0.0|               2|            0|       0| 93826.63|        0|\n",
      "|   15643966|  Goforth|         616|     Germany|  Male| 45|           3|   143129.41|               2|            0|       1| 64327.26|        0|\n",
      "|   15729599|  Lorenzo|         804|       Spain|  Male| 33|           7|     76548.6|               1|            0|       1| 98453.45|        0|\n",
      "|   15804771|Velazquez|         614|      France|  Male| 51|           4|    40685.92|               1|            1|       1| 46775.28|        0|\n",
      "|   15651280|   Hunter|         742|     Germany|  Male| 35|           5|    136857.0|               1|            0|       0| 84509.57|        0|\n",
      "|   15592461|  Jackson|         603|     Germany|  Male| 26|           4|   109166.37|               1|            1|       1| 92840.67|        0|\n",
      "|   15663706|  Leonard|         777|      France|Female| 32|           2|         0.0|               1|            1|       0|136458.19|        1|\n",
      "|   15809248|     Cole|         524|      France|Female| 36|          10|         0.0|               2|            1|       0|109614.57|        0|\n",
      "|   15808582|       Fu|         665|      France|Female| 40|           6|         0.0|               1|            1|       1|161848.03|        0|\n",
      "|   15744689|    T'ang|         479|     Germany|  Male| 35|           9|    92833.89|               1|            1|       0| 99449.86|        1|\n",
      "|   15682472| Culbreth|         828|      France|  Male| 34|           8|   129433.34|               2|            0|       0| 38131.77|        0|\n",
      "|   15760085|Calabresi|         684|     Germany|Female| 48|          10|   126384.42|               1|            1|       1|198129.36|        0|\n",
      "|   15628145|  Forwood|         682|      France|Female| 43|           5|   125851.93|               1|            1|       1|193318.33|        0|\n",
      "|   15794413|   Harris|         416|      France|  Male| 32|           0|         0.0|               2|            0|       1|   878.87|        0|\n",
      "|   15589975|  Maclean|         646|      France|Female| 73|           6|    97259.25|               1|            0|       1|104719.66|        0|\n",
      "|   15641122|      Wei|         684|      France|  Male| 30|           2|         0.0|               2|            1|       0| 83473.82|        0|\n",
      "|   15630910|   Treacy|         800|      France|Female| 49|           7|   108007.36|               1|            0|       0| 47125.11|        0|\n",
      "|   15658929| Taverner|         683|       Spain|  Male| 29|           0|   133702.89|               1|            1|       0| 55582.54|        1|\n",
      "|   15586310|     Ting|         578|      France|  Male| 30|           4|   169462.09|               1|            1|       0|112187.11|        0|\n",
      "|   15716334|   Rozier|         850|       Spain|Female| 45|           2|   122311.21|               1|            1|       1|  19482.5|        0|\n",
      "+-----------+---------+------------+------------+------+---+------------+------------+----------------+-------------+--------+---------+---------+\n",
      "only showing top 20 rows\n",
      "\n"
     ]
    }
   ],
   "source": [
    "#drop test thử xem còn bị lặp giá trị không nhá\n",
    "test = bank_churned_casting.drop_duplicates()\n",
    "test.show()"
   ]
  },
  {
   "cell_type": "code",
   "execution_count": 126,
   "id": "77dc97f2-221e-4812-a5ba-2515cd651147",
   "metadata": {},
   "outputs": [
    {
     "name": "stdout",
     "output_type": "stream",
     "text": [
      "+-----------+---------+------------+------------+------+---+------------+------------+----------------+-------------+--------+--------+---------+\n",
      "|customer_id|  surname|credit_score|home_country|gender|age|years_stayed|bank_balance|no_products_used|hasCreditCard|isActive|  salary|isChurned|\n",
      "+-----------+---------+------------+------------+------+---+------------+------------+----------------+-------------+--------+--------+---------+\n",
      "|   15682355|Sabbatini|         772|     Germany|  Male| 42|           3|    75075.31|               2|            1|       0|92888.52|        1|\n",
      "|   15628319|   Walker|         792|      France|Female| 28|           4|   130142.79|               1|            1|       0|38190.78|        0|\n",
      "+-----------+---------+------------+------------+------+---+------------+------------+----------------+-------------+--------+--------+---------+\n",
      "\n"
     ]
    }
   ],
   "source": [
    "#check lại 2 con id khách hàng bị lặp ban nãy\n",
    "test.filter(bank_churned_casting['customer_id'].isin(bank_churned_duplicates_list)).show()"
   ]
  },
  {
   "cell_type": "markdown",
   "id": "f7b74635-2fe9-456d-baeb-1cce8e6f159d",
   "metadata": {},
   "source": [
    "Thế là hết lặp rồi, không cần test nữa cho thẳng vô bước kết quả thôi."
   ]
  },
  {
   "cell_type": "code",
   "execution_count": 202,
   "id": "5d7ca48f-3f2d-45ff-b149-a13019378fa4",
   "metadata": {},
   "outputs": [
    {
     "name": "stdout",
     "output_type": "stream",
     "text": [
      "+-----------+---------+------------+------------+------+---+------------+------------+----------------+-------------+--------+--------+---------+\n",
      "|customer_id|  surname|credit_score|home_country|gender|age|years_stayed|bank_balance|no_products_used|hasCreditCard|isActive|  salary|isChurned|\n",
      "+-----------+---------+------------+------------+------+---+------------+------------+----------------+-------------+--------+--------+---------+\n",
      "|   15682355|Sabbatini|         772|     Germany|  Male| 42|           3|    75075.31|               2|            1|       0|92888.52|        1|\n",
      "|   15628319|   Walker|         792|      France|Female| 28|           4|   130142.79|               1|            1|       0|38190.78|        0|\n",
      "+-----------+---------+------------+------------+------+---+------------+------------+----------------+-------------+--------+--------+---------+\n",
      "\n"
     ]
    }
   ],
   "source": [
    "#nhận kết quả\n",
    "bank_churned_deduplicating = bank_churned_casting.drop_duplicates() \n",
    "bank_churned_deduplicating.filter(bank_churned_casting['customer_id'].isin(bank_churned_duplicates_list)).show()"
   ]
  },
  {
   "cell_type": "code",
   "execution_count": 204,
   "id": "2cc52c72-5f71-4170-8e9a-d39eda286aa7",
   "metadata": {},
   "outputs": [
    {
     "name": "stdout",
     "output_type": "stream",
     "text": [
      "+-----------+---------+------------+------------+------+---+------------+------------+----------------+-------------+--------+---------+---------+\n",
      "|customer_id|  surname|credit_score|home_country|gender|age|years_stayed|bank_balance|no_products_used|hasCreditCard|isActive|   salary|isChurned|\n",
      "+-----------+---------+------------+------------+------+---+------------+------------+----------------+-------------+--------+---------+---------+\n",
      "|   15701354|     Boni|         699|      France|Female| 39|           1|         0.0|               2|            0|       0| 93826.63|        0|\n",
      "|   15643966|  Goforth|         616|     Germany|  Male| 45|           3|   143129.41|               2|            0|       1| 64327.26|        0|\n",
      "|   15729599|  Lorenzo|         804|       Spain|  Male| 33|           7|     76548.6|               1|            0|       1| 98453.45|        0|\n",
      "|   15804771|Velazquez|         614|      France|  Male| 51|           4|    40685.92|               1|            1|       1| 46775.28|        0|\n",
      "|   15651280|   Hunter|         742|     Germany|  Male| 35|           5|    136857.0|               1|            0|       0| 84509.57|        0|\n",
      "|   15592461|  Jackson|         603|     Germany|  Male| 26|           4|   109166.37|               1|            1|       1| 92840.67|        0|\n",
      "|   15663706|  Leonard|         777|      France|Female| 32|           2|         0.0|               1|            1|       0|136458.19|        1|\n",
      "|   15809248|     Cole|         524|      France|Female| 36|          10|         0.0|               2|            1|       0|109614.57|        0|\n",
      "|   15808582|       Fu|         665|      France|Female| 40|           6|         0.0|               1|            1|       1|161848.03|        0|\n",
      "|   15744689|    T'ang|         479|     Germany|  Male| 35|           9|    92833.89|               1|            1|       0| 99449.86|        1|\n",
      "|   15682472| Culbreth|         828|      France|  Male| 34|           8|   129433.34|               2|            0|       0| 38131.77|        0|\n",
      "|   15760085|Calabresi|         684|     Germany|Female| 48|          10|   126384.42|               1|            1|       1|198129.36|        0|\n",
      "|   15628145|  Forwood|         682|      France|Female| 43|           5|   125851.93|               1|            1|       1|193318.33|        0|\n",
      "|   15794413|   Harris|         416|      France|  Male| 32|           0|         0.0|               2|            0|       1|   878.87|        0|\n",
      "|   15589975|  Maclean|         646|      France|Female| 73|           6|    97259.25|               1|            0|       1|104719.66|        0|\n",
      "|   15641122|      Wei|         684|      France|  Male| 30|           2|         0.0|               2|            1|       0| 83473.82|        0|\n",
      "|   15630910|   Treacy|         800|      France|Female| 49|           7|   108007.36|               1|            0|       0| 47125.11|        0|\n",
      "|   15658929| Taverner|         683|       Spain|  Male| 29|           0|   133702.89|               1|            1|       0| 55582.54|        1|\n",
      "|   15586310|     Ting|         578|      France|  Male| 30|           4|   169462.09|               1|            1|       0|112187.11|        0|\n",
      "|   15716334|   Rozier|         850|       Spain|Female| 45|           2|   122311.21|               1|            1|       1|  19482.5|        0|\n",
      "+-----------+---------+------------+------------+------+---+------------+------------+----------------+-------------+--------+---------+---------+\n",
      "only showing top 20 rows\n",
      "\n"
     ]
    }
   ],
   "source": [
    "bank_churned_deduplicating.show()"
   ]
  },
  {
   "cell_type": "markdown",
   "id": "86feddaa-2c48-4b1f-8908-d4de6f1f557d",
   "metadata": {},
   "source": [
    "oke ngon rồi đấy!"
   ]
  },
  {
   "cell_type": "markdown",
   "id": "a3f93838-5e3b-4f95-af93-9b7d145368bd",
   "metadata": {},
   "source": [
    "### 3. Kiểm tra giá trị null từng cột"
   ]
  },
  {
   "cell_type": "code",
   "execution_count": 194,
   "id": "f427cabb-99b8-4a4e-90e6-944be379932a",
   "metadata": {},
   "outputs": [
    {
     "data": {
      "text/plain": [
       "['customer_id',\n",
       " 'surname',\n",
       " 'credit_score',\n",
       " 'home_country',\n",
       " 'gender',\n",
       " 'age',\n",
       " 'years_stayed',\n",
       " 'bank_balance',\n",
       " 'no_products_used',\n",
       " 'hasCreditCard',\n",
       " 'isActive',\n",
       " 'salary',\n",
       " 'isChurned']"
      ]
     },
     "execution_count": 194,
     "metadata": {},
     "output_type": "execute_result"
    }
   ],
   "source": [
    "#show tên cột cho xanh chín\n",
    "df_column = bank_churned_deduplicating.columns\n",
    "df_column"
   ]
  },
  {
   "cell_type": "markdown",
   "id": "80692ae1-7a0a-4f94-ac65-ac39704b1bfc",
   "metadata": {},
   "source": [
    "Ý tưởng cho việc kiểm tra null là đếm số giá trị null của mỗi cột. Nếu pyspark nó ngon như pandas thì phần này làm khá dễ, \n",
    "chỉ cần df.info() là xong rồi, cơ mà pyspark nó dễ bị lỗi lắm. Nếu chạy kiểu đó, pyspark nó sẽ kêu lỗi tại méo xử lý được\n",
    "nên là nếu muốn đếm null thì phải thủ công, nghĩ theo hướng SQL xíu."
   ]
  },
  {
   "cell_type": "markdown",
   "id": "d5a93e82-7456-4fa4-9ed4-3a5c0cd99a5e",
   "metadata": {},
   "source": [
    "Giờ chạy con vòng lặp các cột rồi đếm nhá."
   ]
  },
  {
   "cell_type": "code",
   "execution_count": 206,
   "id": "8fa80b5e-f355-4152-92f1-a6637d4b996d",
   "metadata": {},
   "outputs": [
    {
     "name": "stdout",
     "output_type": "stream",
     "text": [
      "+-----------+-------+------------+------------+------+---+------------+------------+----------------+-------------+--------+------+---------+\n",
      "|customer_id|surname|credit_score|home_country|gender|age|years_stayed|bank_balance|no_products_used|hasCreditCard|isActive|salary|isChurned|\n",
      "+-----------+-------+------------+------------+------+---+------------+------------+----------------+-------------+--------+------+---------+\n",
      "|          0|      0|           0|           1|     0|  1|           0|           0|               0|            1|       1|     0|        0|\n",
      "+-----------+-------+------------+------------+------+---+------------+------------+----------------+-------------+--------+------+---------+\n",
      "\n"
     ]
    }
   ],
   "source": [
    "temp_null_container = bank_churned_deduplicating.select([count(when(isnan(c) | col(c).isNull(), c)).alias(c) for c in df_column]).show()\n",
    "#Tạo một container để xem cả cái bảng nó null ở đâu\n",
    "temp_null_container"
   ]
  },
  {
   "cell_type": "markdown",
   "id": "650fff6e-642f-43c7-acbe-9ccdb6d98997",
   "metadata": {},
   "source": [
    "Từ kết quả trên thì thấy các cột này bị null này: <b>'home_country', 'age', 'hasCreditCard', 'isActive'"
   ]
  },
  {
   "cell_type": "markdown",
   "id": "a480dc77-408a-4615-ba79-0ec1d77b5c45",
   "metadata": {},
   "source": [
    "Giờ mình xử lý từng cột một thôi là ngon rồi."
   ]
  },
  {
   "cell_type": "markdown",
   "id": "1028d5e0-f3bc-46f3-b4f6-7724247c66e9",
   "metadata": {},
   "source": [
    "#### 3.1. Cột 'home_country'"
   ]
  },
  {
   "cell_type": "code",
   "execution_count": 208,
   "id": "b69a20e0-96c6-4716-a52d-0166fa0b1d50",
   "metadata": {},
   "outputs": [
    {
     "name": "stdout",
     "output_type": "stream",
     "text": [
      "+------------+\n",
      "|home_country|\n",
      "+------------+\n",
      "|       Spain|\n",
      "|      France|\n",
      "|     Germany|\n",
      "|        NULL|\n",
      "+------------+\n",
      "\n"
     ]
    }
   ],
   "source": [
    "bank_churned_deduplicating.select(col('home_country')).distinct().show()"
   ]
  },
  {
   "cell_type": "markdown",
   "id": "14515dfa-8fe5-4442-8ad3-99d938eb238b",
   "metadata": {},
   "source": [
    "Đầu tiên xem có những giá trị nào trong cột, thì ta thấy một con NULL to đùng, cơ mà theo bảng trên thì có mỗi một giá trị NULL thôi.\n",
    "Vẫn cần sửa để dataset nó đẹp xíu, thì mình thay NULL thành Unknown là xong."
   ]
  },
  {
   "cell_type": "code",
   "execution_count": 226,
   "id": "caa241d8-4bc1-42f5-9191-649dcb2bdcdf",
   "metadata": {},
   "outputs": [
    {
     "name": "stdout",
     "output_type": "stream",
     "text": [
      "+-----------+---------+------------+------------+------+---+------------+------------+----------------+-------------+--------+---------+---------+\n",
      "|customer_id|  surname|credit_score|home_country|gender|age|years_stayed|bank_balance|no_products_used|hasCreditCard|isActive|   salary|isChurned|\n",
      "+-----------+---------+------------+------------+------+---+------------+------------+----------------+-------------+--------+---------+---------+\n",
      "|   15701354|     Boni|         699|      France|Female| 39|           1|         0.0|               2|            0|       0| 93826.63|        0|\n",
      "|   15643966|  Goforth|         616|     Germany|  Male| 45|           3|   143129.41|               2|            0|       1| 64327.26|        0|\n",
      "|   15729599|  Lorenzo|         804|       Spain|  Male| 33|           7|     76548.6|               1|            0|       1| 98453.45|        0|\n",
      "|   15804771|Velazquez|         614|      France|  Male| 51|           4|    40685.92|               1|            1|       1| 46775.28|        0|\n",
      "|   15651280|   Hunter|         742|     Germany|  Male| 35|           5|    136857.0|               1|            0|       0| 84509.57|        0|\n",
      "|   15592461|  Jackson|         603|     Germany|  Male| 26|           4|   109166.37|               1|            1|       1| 92840.67|        0|\n",
      "|   15663706|  Leonard|         777|      France|Female| 32|           2|         0.0|               1|            1|       0|136458.19|        1|\n",
      "|   15809248|     Cole|         524|      France|Female| 36|          10|         0.0|               2|            1|       0|109614.57|        0|\n",
      "|   15808582|       Fu|         665|      France|Female| 40|           6|         0.0|               1|            1|       1|161848.03|        0|\n",
      "|   15744689|    T'ang|         479|     Germany|  Male| 35|           9|    92833.89|               1|            1|       0| 99449.86|        1|\n",
      "|   15682472| Culbreth|         828|      France|  Male| 34|           8|   129433.34|               2|            0|       0| 38131.77|        0|\n",
      "|   15760085|Calabresi|         684|     Germany|Female| 48|          10|   126384.42|               1|            1|       1|198129.36|        0|\n",
      "|   15628145|  Forwood|         682|      France|Female| 43|           5|   125851.93|               1|            1|       1|193318.33|        0|\n",
      "|   15794413|   Harris|         416|      France|  Male| 32|           0|         0.0|               2|            0|       1|   878.87|        0|\n",
      "|   15589975|  Maclean|         646|      France|Female| 73|           6|    97259.25|               1|            0|       1|104719.66|        0|\n",
      "|   15641122|      Wei|         684|      France|  Male| 30|           2|         0.0|               2|            1|       0| 83473.82|        0|\n",
      "|   15630910|   Treacy|         800|      France|Female| 49|           7|   108007.36|               1|            0|       0| 47125.11|        0|\n",
      "|   15658929| Taverner|         683|       Spain|  Male| 29|           0|   133702.89|               1|            1|       0| 55582.54|        1|\n",
      "|   15586310|     Ting|         578|      France|  Male| 30|           4|   169462.09|               1|            1|       0|112187.11|        0|\n",
      "|   15716334|   Rozier|         850|       Spain|Female| 45|           2|   122311.21|               1|            1|       1|  19482.5|        0|\n",
      "+-----------+---------+------------+------------+------+---+------------+------------+----------------+-------------+--------+---------+---------+\n",
      "only showing top 20 rows\n",
      "\n"
     ]
    }
   ],
   "source": [
    "test = bank_churned_deduplicating.fillna(value='Unknown', subset=['home_country'])\n",
    "test.show()"
   ]
  },
  {
   "cell_type": "code",
   "execution_count": 228,
   "id": "57a4adb2-6389-4e3a-941c-32886d85cdf4",
   "metadata": {},
   "outputs": [
    {
     "name": "stdout",
     "output_type": "stream",
     "text": [
      "+------------+\n",
      "|home_country|\n",
      "+------------+\n",
      "|       Spain|\n",
      "|     Unknown|\n",
      "|      France|\n",
      "|     Germany|\n",
      "+------------+\n",
      "\n"
     ]
    }
   ],
   "source": [
    "test.select(col('home_country')).distinct().show()"
   ]
  },
  {
   "cell_type": "markdown",
   "id": "864ab18e-0c0c-45df-898e-b8fa6df107d6",
   "metadata": {},
   "source": [
    "Này là cái cột cắn giá trị 'Unknown' rồi, lát mình gán vào dữ liệu cần thôi."
   ]
  },
  {
   "cell_type": "markdown",
   "id": "f5f24971-3955-4e89-b315-4acb2ea8e940",
   "metadata": {},
   "source": [
    "Tại sao là lát í hả, ấy là vì mình có thể fillna dưới dạng dict, tức là fill giá trị null của từng cột với một giá trị riêng mình khoái."
   ]
  },
  {
   "cell_type": "markdown",
   "id": "af0c2b56-ba5c-487a-a3f1-93a850f36b4e",
   "metadata": {},
   "source": [
    "Thế nên xử lý từng cột một thôi!"
   ]
  },
  {
   "cell_type": "markdown",
   "id": "57ea8fb8-b25c-484d-be60-875787deb334",
   "metadata": {},
   "source": [
    "#### 3.2. Cột 'age'"
   ]
  },
  {
   "cell_type": "code",
   "execution_count": 260,
   "id": "69d0dc36-0405-4e6b-8d4d-1ce126340728",
   "metadata": {},
   "outputs": [
    {
     "name": "stdout",
     "output_type": "stream",
     "text": [
      "+---+\n",
      "|age|\n",
      "+---+\n",
      "| 38|\n",
      "| 46|\n",
      "| 67|\n",
      "| 70|\n",
      "| 18|\n",
      "| 39|\n",
      "| 51|\n",
      "| 48|\n",
      "| 62|\n",
      "| 23|\n",
      "| 64|\n",
      "| 82|\n",
      "| 74|\n",
      "| 31|\n",
      "| 58|\n",
      "| 49|\n",
      "| 57|\n",
      "| 76|\n",
      "| 77|\n",
      "| 41|\n",
      "+---+\n",
      "only showing top 20 rows\n",
      "\n"
     ]
    }
   ],
   "source": [
    "#distinct luôn để xem tìm Null có dễ như lần trước không\n",
    "test_age = bank_churned_deduplicating.select(col('age')).distinct()\n",
    "\n",
    "#có vẻ là không rồi =)))\n",
    "test_age.show()"
   ]
  },
  {
   "cell_type": "code",
   "execution_count": 262,
   "id": "ac58cabd-e2b2-4d77-b7b1-8e7d7f0fa89d",
   "metadata": {},
   "outputs": [
    {
     "name": "stdout",
     "output_type": "stream",
     "text": [
      "+----+\n",
      "| age|\n",
      "+----+\n",
      "|NULL|\n",
      "|  18|\n",
      "|  19|\n",
      "|  20|\n",
      "|  21|\n",
      "|  22|\n",
      "|  23|\n",
      "|  24|\n",
      "|  25|\n",
      "|  26|\n",
      "|  27|\n",
      "|  28|\n",
      "|  29|\n",
      "|  30|\n",
      "|  31|\n",
      "|  32|\n",
      "|  33|\n",
      "|  34|\n",
      "|  35|\n",
      "|  36|\n",
      "+----+\n",
      "only showing top 20 rows\n",
      "\n"
     ]
    }
   ],
   "source": [
    "#sort lại cột để nhìn NULL\n",
    "test_age.sort(col('age')).show()"
   ]
  },
  {
   "cell_type": "markdown",
   "id": "d79affd3-f99c-487b-87f4-e6d0adcccaf5",
   "metadata": {},
   "source": [
    "May là toàn 1 NULL hết nên cũng chill =)) giờ tính trung bình cột age rồi thay giá trị hiện tại vào là oke"
   ]
  },
  {
   "cell_type": "code",
   "execution_count": 289,
   "id": "00e97fd0-945e-4745-aa1e-f22aa115216f",
   "metadata": {},
   "outputs": [
    {
     "data": {
      "text/plain": [
       "[Row(avg(age)=52.6)]"
      ]
     },
     "execution_count": 289,
     "metadata": {},
     "output_type": "execute_result"
    }
   ],
   "source": [
    "test_age.select(mean(col('age'))).collect()"
   ]
  },
  {
   "cell_type": "markdown",
   "id": "137a2587-1c16-494f-a574-f2b0f991b000",
   "metadata": {},
   "source": [
    "Ca này thì thôi khỏi chạy list làm gì cho màu mè =))) replace NULL với 52.6 là oke"
   ]
  },
  {
   "cell_type": "markdown",
   "id": "0a83ce0a-600d-4d4c-85d8-5f921fe287d1",
   "metadata": {},
   "source": [
    "#### 3.3. Cột 'hasCreditCard', 'isActive'"
   ]
  },
  {
   "cell_type": "markdown",
   "id": "d3e12288-18d6-43e3-b9c4-e9324d8db7f4",
   "metadata": {},
   "source": [
    "2 cột này thì xử lý y hệt nhau luôn, tại nó đều là cột boolean nên mình thay thành một cái Unknown riêng cho nó, nên cho nó là 2 cả đôi."
   ]
  },
  {
   "cell_type": "markdown",
   "id": "f488045f-9eca-43c8-a62b-e9994989b560",
   "metadata": {},
   "source": [
    "#### 3.4. Fill NULL"
   ]
  },
  {
   "cell_type": "code",
   "execution_count": 329,
   "id": "4d1a11b9-84cc-45c7-a5d1-48bd04a08bab",
   "metadata": {},
   "outputs": [
    {
     "name": "stdout",
     "output_type": "stream",
     "text": [
      "+-----------+---------+------------+------------+------+---+------------+------------+----------------+-------------+--------+---------+---------+\n",
      "|customer_id|  surname|credit_score|home_country|gender|age|years_stayed|bank_balance|no_products_used|hasCreditCard|isActive|   salary|isChurned|\n",
      "+-----------+---------+------------+------------+------+---+------------+------------+----------------+-------------+--------+---------+---------+\n",
      "|   15701354|     Boni|         699|      France|Female| 39|           1|         0.0|               2|            0|       0| 93826.63|        0|\n",
      "|   15643966|  Goforth|         616|     Germany|  Male| 45|           3|   143129.41|               2|            0|       1| 64327.26|        0|\n",
      "|   15729599|  Lorenzo|         804|       Spain|  Male| 33|           7|     76548.6|               1|            0|       1| 98453.45|        0|\n",
      "|   15804771|Velazquez|         614|      France|  Male| 51|           4|    40685.92|               1|            1|       1| 46775.28|        0|\n",
      "|   15651280|   Hunter|         742|     Germany|  Male| 35|           5|    136857.0|               1|            0|       0| 84509.57|        0|\n",
      "|   15592461|  Jackson|         603|     Germany|  Male| 26|           4|   109166.37|               1|            1|       1| 92840.67|        0|\n",
      "|   15663706|  Leonard|         777|      France|Female| 32|           2|         0.0|               1|            1|       0|136458.19|        1|\n",
      "|   15809248|     Cole|         524|      France|Female| 36|          10|         0.0|               2|            1|       0|109614.57|        0|\n",
      "|   15808582|       Fu|         665|      France|Female| 40|           6|         0.0|               1|            1|       1|161848.03|        0|\n",
      "|   15744689|    T'ang|         479|     Germany|  Male| 35|           9|    92833.89|               1|            1|       0| 99449.86|        1|\n",
      "|   15682472| Culbreth|         828|      France|  Male| 34|           8|   129433.34|               2|            0|       0| 38131.77|        0|\n",
      "|   15760085|Calabresi|         684|     Germany|Female| 48|          10|   126384.42|               1|            1|       1|198129.36|        0|\n",
      "|   15628145|  Forwood|         682|      France|Female| 43|           5|   125851.93|               1|            1|       1|193318.33|        0|\n",
      "|   15794413|   Harris|         416|      France|  Male| 32|           0|         0.0|               2|            0|       1|   878.87|        0|\n",
      "|   15589975|  Maclean|         646|      France|Female| 73|           6|    97259.25|               1|            0|       1|104719.66|        0|\n",
      "|   15641122|      Wei|         684|      France|  Male| 30|           2|         0.0|               2|            1|       0| 83473.82|        0|\n",
      "|   15630910|   Treacy|         800|      France|Female| 49|           7|   108007.36|               1|            0|       0| 47125.11|        0|\n",
      "|   15658929| Taverner|         683|       Spain|  Male| 29|           0|   133702.89|               1|            1|       0| 55582.54|        1|\n",
      "|   15586310|     Ting|         578|      France|  Male| 30|           4|   169462.09|               1|            1|       0|112187.11|        0|\n",
      "|   15716334|   Rozier|         850|       Spain|Female| 45|           2|   122311.21|               1|            1|       1|  19482.5|        0|\n",
      "+-----------+---------+------------+------------+------+---+------------+------------+----------------+-------------+--------+---------+---------+\n",
      "only showing top 20 rows\n",
      "\n"
     ]
    }
   ],
   "source": [
    "test = bank_churned_deduplicating.fillna({'home_country':'Unknown'\n",
    "                                   , 'age': 53 #lẽ ra là 52.6 cơ mà làm tròn lên tại cột này đang là integer\n",
    "                                   , 'hasCreditCard' : 2\n",
    "                                   , 'isActive': 2\n",
    "                                  })\n",
    "test.show()"
   ]
  },
  {
   "cell_type": "code",
   "execution_count": 330,
   "id": "706d0934-7dea-4a65-9f82-41968041a5a6",
   "metadata": {},
   "outputs": [
    {
     "name": "stdout",
     "output_type": "stream",
     "text": [
      "+-----------+-------+------------+------------+------+---+------------+------------+----------------+-------------+--------+------+---------+\n",
      "|customer_id|surname|credit_score|home_country|gender|age|years_stayed|bank_balance|no_products_used|hasCreditCard|isActive|salary|isChurned|\n",
      "+-----------+-------+------------+------------+------+---+------------+------------+----------------+-------------+--------+------+---------+\n",
      "|          0|      0|           0|           0|     0|  0|           0|           0|               0|            0|       0|     0|        0|\n",
      "+-----------+-------+------------+------------+------+---+------------+------------+----------------+-------------+--------+------+---------+\n",
      "\n"
     ]
    }
   ],
   "source": [
    "#check xem còn ông nào null không\n",
    "test.select([\n",
    "    count(when(isnan(c) | col(c).isNull(), c)).alias(c)\n",
    "    for c in test.columns\n",
    "]).show()"
   ]
  },
  {
   "cell_type": "markdown",
   "id": "bbb6d4e3-a575-45b3-b3f4-1a5898e91303",
   "metadata": {},
   "source": [
    "Có vẻ là hết null òi, ngon đét nhể. Giờ mình gán lại vào cái cục biến ban đầu là oke."
   ]
  },
  {
   "cell_type": "code",
   "execution_count": 334,
   "id": "4da694d0-6085-4e84-a587-4dea40bec143",
   "metadata": {},
   "outputs": [
    {
     "name": "stdout",
     "output_type": "stream",
     "text": [
      "+-----------+---------+------------+------------+------+---+------------+------------+----------------+-------------+--------+---------+---------+\n",
      "|customer_id|  surname|credit_score|home_country|gender|age|years_stayed|bank_balance|no_products_used|hasCreditCard|isActive|   salary|isChurned|\n",
      "+-----------+---------+------------+------------+------+---+------------+------------+----------------+-------------+--------+---------+---------+\n",
      "|   15701354|     Boni|         699|      France|Female| 39|           1|         0.0|               2|            0|       0| 93826.63|        0|\n",
      "|   15643966|  Goforth|         616|     Germany|  Male| 45|           3|   143129.41|               2|            0|       1| 64327.26|        0|\n",
      "|   15729599|  Lorenzo|         804|       Spain|  Male| 33|           7|     76548.6|               1|            0|       1| 98453.45|        0|\n",
      "|   15804771|Velazquez|         614|      France|  Male| 51|           4|    40685.92|               1|            1|       1| 46775.28|        0|\n",
      "|   15651280|   Hunter|         742|     Germany|  Male| 35|           5|    136857.0|               1|            0|       0| 84509.57|        0|\n",
      "|   15592461|  Jackson|         603|     Germany|  Male| 26|           4|   109166.37|               1|            1|       1| 92840.67|        0|\n",
      "|   15663706|  Leonard|         777|      France|Female| 32|           2|         0.0|               1|            1|       0|136458.19|        1|\n",
      "|   15809248|     Cole|         524|      France|Female| 36|          10|         0.0|               2|            1|       0|109614.57|        0|\n",
      "|   15808582|       Fu|         665|      France|Female| 40|           6|         0.0|               1|            1|       1|161848.03|        0|\n",
      "|   15744689|    T'ang|         479|     Germany|  Male| 35|           9|    92833.89|               1|            1|       0| 99449.86|        1|\n",
      "|   15682472| Culbreth|         828|      France|  Male| 34|           8|   129433.34|               2|            0|       0| 38131.77|        0|\n",
      "|   15760085|Calabresi|         684|     Germany|Female| 48|          10|   126384.42|               1|            1|       1|198129.36|        0|\n",
      "|   15628145|  Forwood|         682|      France|Female| 43|           5|   125851.93|               1|            1|       1|193318.33|        0|\n",
      "|   15794413|   Harris|         416|      France|  Male| 32|           0|         0.0|               2|            0|       1|   878.87|        0|\n",
      "|   15589975|  Maclean|         646|      France|Female| 73|           6|    97259.25|               1|            0|       1|104719.66|        0|\n",
      "|   15641122|      Wei|         684|      France|  Male| 30|           2|         0.0|               2|            1|       0| 83473.82|        0|\n",
      "|   15630910|   Treacy|         800|      France|Female| 49|           7|   108007.36|               1|            0|       0| 47125.11|        0|\n",
      "|   15658929| Taverner|         683|       Spain|  Male| 29|           0|   133702.89|               1|            1|       0| 55582.54|        1|\n",
      "|   15586310|     Ting|         578|      France|  Male| 30|           4|   169462.09|               1|            1|       0|112187.11|        0|\n",
      "|   15716334|   Rozier|         850|       Spain|Female| 45|           2|   122311.21|               1|            1|       1|  19482.5|        0|\n",
      "+-----------+---------+------------+------------+------+---+------------+------------+----------------+-------------+--------+---------+---------+\n",
      "only showing top 20 rows\n",
      "\n"
     ]
    }
   ],
   "source": [
    "bank_churned_null_removed = bank_churned_deduplicating.fillna({'home_country':'Unknown'\n",
    "                                   , 'age': 53\n",
    "                                   , 'hasCreditCard' : 2\n",
    "                                   , 'isActive': 2\n",
    "                                  })\n",
    "bank_churned_null_removed.show()"
   ]
  },
  {
   "cell_type": "code",
   "execution_count": 336,
   "id": "e324b38e-4b61-4092-8436-afee63c4888f",
   "metadata": {},
   "outputs": [
    {
     "name": "stdout",
     "output_type": "stream",
     "text": [
      "root\n",
      " |-- customer_id: integer (nullable = true)\n",
      " |-- surname: string (nullable = true)\n",
      " |-- credit_score: integer (nullable = true)\n",
      " |-- home_country: string (nullable = false)\n",
      " |-- gender: string (nullable = true)\n",
      " |-- age: integer (nullable = false)\n",
      " |-- years_stayed: integer (nullable = true)\n",
      " |-- bank_balance: double (nullable = true)\n",
      " |-- no_products_used: integer (nullable = true)\n",
      " |-- hasCreditCard: integer (nullable = false)\n",
      " |-- isActive: integer (nullable = false)\n",
      " |-- salary: double (nullable = true)\n",
      " |-- isChurned: integer (nullable = true)\n",
      "\n"
     ]
    }
   ],
   "source": [
    "bank_churned_null_removed.printSchema()"
   ]
  },
  {
   "cell_type": "markdown",
   "id": "b0f4df84-ed2b-48a6-9f86-37f72f297d67",
   "metadata": {},
   "source": [
    "### 4. Kiểm tra từng cột một"
   ]
  },
  {
   "cell_type": "markdown",
   "id": "0fa8a18b-eee4-4eec-b104-abd054b5dc9e",
   "metadata": {},
   "source": [
    "Thế tại sao tự nhiên đi check từng cột một? Sau khi mà mình thay thiếc các thứ ấy, thì cái vấn đề là vẫn có thể có mấy dữ liệu \n",
    "nó bị dở người, kiểu lọt số 0 hay lọt cái ký tự lạ vô. Nên trước mắt là check distinct với cả xuôi ngược."
   ]
  },
  {
   "cell_type": "markdown",
   "id": "523dfa40-a657-404e-911d-ec9e855ae82c",
   "metadata": {},
   "source": [
    "#### 4.1. 'customer_id'"
   ]
  },
  {
   "cell_type": "code",
   "execution_count": 368,
   "id": "157aa6c8-d1a6-43fb-8cc6-d1a56257d30f",
   "metadata": {},
   "outputs": [
    {
     "name": "stdout",
     "output_type": "stream",
     "text": [
      "+-----------+---------+------------+------------+------+---+------------+------------+----------------+-------------+--------+---------+---------+\n",
      "|customer_id|  surname|credit_score|home_country|gender|age|years_stayed|bank_balance|no_products_used|hasCreditCard|isActive|   salary|isChurned|\n",
      "+-----------+---------+------------+------------+------+---+------------+------------+----------------+-------------+--------+---------+---------+\n",
      "|   15815690| Akabueze|         614|       Spain|Female| 40|           3|    113348.5|               1|            1|       1| 77789.01|        0|\n",
      "|   15815660|    Mazzi|         758|      France|Female| 34|           1|   154139.45|               1|            1|       1| 60728.89|        0|\n",
      "|   15815656|  Hopkins|         541|     Germany|Female| 39|           9|   100116.67|               1|            1|       1| 199808.1|        1|\n",
      "|   15815645|   Akhtar|         481|      France|  Male| 37|           8|   152303.66|               2|            1|       1| 175082.2|        0|\n",
      "|   15815628|   Moysey|         711|      France|Female| 37|           8|   113899.92|               1|            0|       0|  80215.2|        0|\n",
      "|   15815626|   Oluchi|         640|      France|  Male| 63|           2|    68432.45|               2|            1|       1|112503.24|        1|\n",
      "|   15815615|     Kung|         681|      France|  Male| 36|           5|   141952.07|               1|            1|       1|185144.08|        0|\n",
      "|   15815560|    Bogle|         666|     Germany|  Male| 74|           7|    105102.5|               1|            1|       1| 46172.47|        0|\n",
      "|   15815552| Ferguson|         670|      France|Female| 42|           6|   112333.63|               1|            1|       1| 65706.86|        0|\n",
      "|   15815534|   Guidry|         505|       Spain|  Male| 37|           0|   134006.39|               1|            1|       1| 93736.69|        0|\n",
      "|   15815530|     Chin|         612|      France|Female| 42|          10|    75497.51|               1|            0|       0|149682.78|        0|\n",
      "|   15815490|    Cocci|         670|     Germany|  Male| 40|           2|   164948.98|               3|            0|       0| 177028.0|        1|\n",
      "|   15815443|       Lo|         527|       Spain|Female| 46|          10|   131414.76|               1|            1|       0| 54947.51|        0|\n",
      "|   15815428|Biryukova|         823|      France|  Male| 34|           3|   105057.33|               1|            1|       0|  9217.92|        0|\n",
      "|   15815420|McDaniels|         808|       Spain|  Male| 47|           8|    139196.0|               1|            0|       1| 74028.36|        0|\n",
      "|   15815364|   Ashley|         736|       Spain|Female| 28|           2|         0.0|               2|            1|       1| 117431.1|        0|\n",
      "|   15815316|  Kennedy|         644|      France|  Male| 50|           9|     76817.0|               4|            1|       0|196371.13|        1|\n",
      "|   15815295|     John|         662|      France|Female| 38|           2|    96479.81|               1|            1|       0|120259.41|        0|\n",
      "|   15815271|  Ritchie|         755|     Germany|  Male| 43|           6|    165048.5|               3|            1|       0| 16929.41|        1|\n",
      "|   15815259|     Fang|         835|      France|Female| 56|           2|         0.0|               2|            1|       1| 39820.13|        0|\n",
      "+-----------+---------+------------+------------+------+---+------------+------------+----------------+-------------+--------+---------+---------+\n",
      "only showing top 20 rows\n",
      "\n"
     ]
    }
   ],
   "source": [
    "bank_churned_null_removed.orderBy('customer_id', ascending = False).show()"
   ]
  },
  {
   "cell_type": "code",
   "execution_count": 366,
   "id": "63c772dc-345e-4d60-b28c-b4ee55cca140",
   "metadata": {},
   "outputs": [
    {
     "name": "stdout",
     "output_type": "stream",
     "text": [
      "+-----------+----------+------------+------------+------+---+------------+------------+----------------+-------------+--------+---------+---------+\n",
      "|customer_id|   surname|credit_score|home_country|gender|age|years_stayed|bank_balance|no_products_used|hasCreditCard|isActive|   salary|isChurned|\n",
      "+-----------+----------+------------+------------+------+---+------------+------------+----------------+-------------+--------+---------+---------+\n",
      "|   15565701|     Ferri|         698|       Spain|Female| 39|           9|   161993.89|               1|            0|       0| 90212.38|        0|\n",
      "|   15565706|  Akobundu|         612|       Spain|  Male| 35|           1|         0.0|               1|            1|       1| 83256.26|        1|\n",
      "|   15565714|  Cattaneo|         601|      France|  Male| 47|           1|    64430.06|               2|            0|       1| 96517.97|        0|\n",
      "|   15565779|      Kent|         627|     Germany|Female| 30|           6|    57809.32|               1|            1|       0|188258.49|        0|\n",
      "|   15565796|  Docherty|         745|     Germany|  Male| 48|          10|    96048.55|               1|            1|       0| 74510.65|        0|\n",
      "|   15565806|    Toosey|         532|      France|  Male| 38|           9|         0.0|               2|            0|       0| 30583.95|        0|\n",
      "|   15565878|     Bates|         631|       Spain|  Male| 29|           3|         0.0|               2|            1|       1|197963.46|        0|\n",
      "|   15565879|     Riley|         845|      France|Female| 28|           9|         0.0|               2|            1|       1| 56185.98|        0|\n",
      "|   15565891|  Dipietro|         709|      France|  Male| 39|           8|         0.0|               2|            1|       0| 56214.09|        0|\n",
      "|   15565996|    Arnold|         653|      France|  Male| 44|           8|         0.0|               2|            1|       1|154639.72|        0|\n",
      "|   15566030|        Tu|         497|     Germany|  Male| 41|           5|    80542.81|               1|            0|       0| 88729.22|        1|\n",
      "|   15566091|   Thomsen|         545|       Spain|Female| 32|           4|         0.0|               1|            1|       0|  94739.2|        0|\n",
      "|   15566111|     Estes|         596|      France|  Male| 39|           9|         0.0|               1|            1|       0| 48963.59|        0|\n",
      "|   15566139|     Ts'ui|         526|      France|Female| 37|           5|    53573.18|               1|            1|       0| 62830.97|        0|\n",
      "|   15566156|  Franklin|         749|     Germany|Female| 44|           0|    71497.79|               2|            0|       0| 151083.8|        0|\n",
      "|   15566211|       Hsu|         616|     Germany|Female| 41|           1|   103560.57|               1|            1|       0|   236.45|        1|\n",
      "|   15566251|   Ferrari|         618|      France|Female| 37|           5|    96652.86|               1|            1|       0|  98686.4|        1|\n",
      "|   15566253|   Manning|         580|     Germany|  Male| 44|           9|   143391.07|               1|            0|       0|146891.07|        1|\n",
      "|   15566269|  Chialuka|         787|      France|  Male| 25|           5|         0.0|               2|            1|       0|  47307.9|        0|\n",
      "|   15566292|Okwuadigbo|         574|       Spain|  Male| 36|           1|         0.0|               2|            0|       1| 71709.12|        0|\n",
      "+-----------+----------+------------+------------+------+---+------------+------------+----------------+-------------+--------+---------+---------+\n",
      "only showing top 20 rows\n",
      "\n"
     ]
    }
   ],
   "source": [
    "bank_churned_null_removed.orderBy('customer_id', ascending = True).show()"
   ]
  },
  {
   "cell_type": "markdown",
   "id": "ba6fdb17-d100-49a6-83cb-1eb836c25c4a",
   "metadata": {},
   "source": [
    "Cột này toàn số thôi nên cứ bọc đầu bọc đuôi không có vấn đề gì là ngon thôi."
   ]
  },
  {
   "cell_type": "markdown",
   "id": "0fd20e0a-c1b7-4a6c-a4ce-b66bb38a1dfa",
   "metadata": {},
   "source": [
    "#### 4.2. 'surname'"
   ]
  },
  {
   "cell_type": "markdown",
   "id": "77864c6f-6f3d-46e3-901a-6a9f3c9766d7",
   "metadata": {},
   "source": [
    "Nói một chút về ý nghĩa cột này với cột 'customer_id' nhé. Dataset của mình có thể dùng cho 2 mục đích: \n",
    "- <b>1: Churn Prediction</b>, lúc này thì các cột chuyển về dạng số hết, cột này và 'customer_id' là 2 cột thừa tại nó không có ý nghĩa gì cả.\n",
    "<b>vd:</b> nếu bạn so sánh mối tương quan, chả nhẽ nếu tên bắt đầu là 'Z' thì sẽ đi vay ngân hàng nhiều hơn à =))\n",
    "hay nếu khách hàng nào có id càng to càng vay lắm. Đủ để thấy 2 cột này vô giá trị nếu đưa vào học máy. \n",
    "- <b>2: Customer Churn Analysis, Customer Service...</b>, mấy cái này thiên về phân tích mô tả, lúc này mình có thể cần tới customer_id\n",
    "để tìm ra khách hàng vay ác nhất trong năm vừa rồi để trao thưởng cho họ, hoặc làm đủ thứ khác liên quan tới CSKH. Cơ mà mình cần tên không, hay chỉ cần đưa id cho bên CSKH/Sale là họ tự tìm được khách. Dĩ nhiên là đưa id rồi, vậy nên cột 'surname' không có ý nghĩa gì hết.\n",
    "\n",
    "Từ 2 cái này, mình có thể đi đến kết luận là <b>drop luôn cột 'surname' đi cho đỡ tốn dữ liệu =)))"
   ]
  },
  {
   "cell_type": "code",
   "execution_count": 400,
   "id": "cfda73ce-da9e-42ed-9616-8990176d6df3",
   "metadata": {},
   "outputs": [
    {
     "name": "stdout",
     "output_type": "stream",
     "text": [
      "+-----------+------------+------------+------+---+------------+------------+----------------+-------------+--------+---------+---------+\n",
      "|customer_id|credit_score|home_country|gender|age|years_stayed|bank_balance|no_products_used|hasCreditCard|isActive|   salary|isChurned|\n",
      "+-----------+------------+------------+------+---+------------+------------+----------------+-------------+--------+---------+---------+\n",
      "|   15701354|         699|      France|Female| 39|           1|         0.0|               2|            0|       0| 93826.63|        0|\n",
      "|   15643966|         616|     Germany|  Male| 45|           3|   143129.41|               2|            0|       1| 64327.26|        0|\n",
      "|   15729599|         804|       Spain|  Male| 33|           7|     76548.6|               1|            0|       1| 98453.45|        0|\n",
      "|   15804771|         614|      France|  Male| 51|           4|    40685.92|               1|            1|       1| 46775.28|        0|\n",
      "|   15651280|         742|     Germany|  Male| 35|           5|    136857.0|               1|            0|       0| 84509.57|        0|\n",
      "|   15592461|         603|     Germany|  Male| 26|           4|   109166.37|               1|            1|       1| 92840.67|        0|\n",
      "|   15663706|         777|      France|Female| 32|           2|         0.0|               1|            1|       0|136458.19|        1|\n",
      "|   15809248|         524|      France|Female| 36|          10|         0.0|               2|            1|       0|109614.57|        0|\n",
      "|   15808582|         665|      France|Female| 40|           6|         0.0|               1|            1|       1|161848.03|        0|\n",
      "|   15744689|         479|     Germany|  Male| 35|           9|    92833.89|               1|            1|       0| 99449.86|        1|\n",
      "|   15682472|         828|      France|  Male| 34|           8|   129433.34|               2|            0|       0| 38131.77|        0|\n",
      "|   15760085|         684|     Germany|Female| 48|          10|   126384.42|               1|            1|       1|198129.36|        0|\n",
      "|   15628145|         682|      France|Female| 43|           5|   125851.93|               1|            1|       1|193318.33|        0|\n",
      "|   15794413|         416|      France|  Male| 32|           0|         0.0|               2|            0|       1|   878.87|        0|\n",
      "|   15589975|         646|      France|Female| 73|           6|    97259.25|               1|            0|       1|104719.66|        0|\n",
      "|   15641122|         684|      France|  Male| 30|           2|         0.0|               2|            1|       0| 83473.82|        0|\n",
      "|   15630910|         800|      France|Female| 49|           7|   108007.36|               1|            0|       0| 47125.11|        0|\n",
      "|   15658929|         683|       Spain|  Male| 29|           0|   133702.89|               1|            1|       0| 55582.54|        1|\n",
      "|   15586310|         578|      France|  Male| 30|           4|   169462.09|               1|            1|       0|112187.11|        0|\n",
      "|   15716334|         850|       Spain|Female| 45|           2|   122311.21|               1|            1|       1|  19482.5|        0|\n",
      "+-----------+------------+------------+------+---+------------+------------+----------------+-------------+--------+---------+---------+\n",
      "only showing top 20 rows\n",
      "\n"
     ]
    }
   ],
   "source": [
    "#đặt tên là optimized vì mình bỏ cột thừa thãi\n",
    "bank_churned_optimized = bank_churned_null_removed.drop('surname')\n",
    "bank_churned_optimized.show()"
   ]
  },
  {
   "cell_type": "markdown",
   "id": "0e119424-aa21-4b77-97c9-fded3bd24a0c",
   "metadata": {},
   "source": [
    "#### 4.3. 'credit_score'"
   ]
  },
  {
   "cell_type": "code",
   "execution_count": 407,
   "id": "9825efd6-e7f8-4844-bcfe-0a0dc60d8332",
   "metadata": {},
   "outputs": [
    {
     "name": "stdout",
     "output_type": "stream",
     "text": [
      "+-----------+------------+------------+------+---+------------+------------+----------------+-------------+--------+---------+---------+\n",
      "|customer_id|credit_score|home_country|gender|age|years_stayed|bank_balance|no_products_used|hasCreditCard|isActive|   salary|isChurned|\n",
      "+-----------+------------+------------+------+---+------------+------------+----------------+-------------+--------+---------+---------+\n",
      "|   15649124|         850|      France|  Male| 30|           9|   121535.18|               1|            0|       0| 40313.47|        0|\n",
      "|   15700801|         850|     Germany|  Male| 42|           6|    84445.68|               3|            0|       1| 60021.34|        1|\n",
      "|   15786078|         850|      France|Female| 28|           9|         0.0|               2|            1|       0|185821.41|        0|\n",
      "|   15716334|         850|       Spain|Female| 45|           2|   122311.21|               1|            1|       1|  19482.5|        0|\n",
      "|   15662641|         850|      France|  Male| 19|           8|         0.0|               1|            1|       1| 68569.89|        0|\n",
      "|   15785798|         850|      France|  Male| 40|           9|         0.0|               2|            0|       1|119232.33|        0|\n",
      "|   15654562|         850|       Spain|Female| 45|           5|    174088.3|               4|            1|       0|  5669.31|        1|\n",
      "|   15808689|         850|      France|Female| 31|           4|         0.0|               2|            1|       1| 33082.81|        0|\n",
      "|   15737509|         850|       Spain|  Male| 34|           8|   199229.14|               1|            0|       0| 68106.29|        0|\n",
      "|   15790683|         850|      France|  Male| 36|           1|   104077.19|               2|            0|       1|  68594.0|        0|\n",
      "|   15778975|         850|     Germany|Female| 70|           1|    96947.58|               3|            1|       0| 62282.99|        1|\n",
      "|   15655229|         850|     Germany|Female| 35|           7|    114285.2|               1|            0|       1|129660.59|        0|\n",
      "|   15729557|         850|     Germany|  Male| 36|           5|   119984.07|               1|            1|       0|191535.11|        1|\n",
      "|   15684999|         850|      France|Female| 26|           4|    62610.96|               2|            0|       1| 179365.1|        0|\n",
      "|   15784301|         850|      France|  Male| 42|           0|         0.0|               2|            1|       0| 44165.84|        0|\n",
      "|   15717138|         850|       Spain|  Male| 31|           6|    82613.56|               2|            1|       0|149170.92|        0|\n",
      "|   15812197|         850|      France|  Male| 38|           7|    80293.98|               1|            0|       0|126555.74|        0|\n",
      "|   15689492|         850|     Germany|  Male| 41|           1|   176958.46|               2|            0|       1| 125806.3|        0|\n",
      "|   15653547|         850|      France|  Male| 56|           7|   131317.48|               1|            1|       1|119175.45|        0|\n",
      "|   15658589|         850|       Spain|  Male| 38|           2|    94652.04|               1|            1|       1|171960.76|        0|\n",
      "+-----------+------------+------------+------+---+------------+------------+----------------+-------------+--------+---------+---------+\n",
      "only showing top 20 rows\n",
      "\n"
     ]
    }
   ],
   "source": [
    "bank_churned_optimized.orderBy('credit_score', ascending = False).show()"
   ]
  },
  {
   "cell_type": "code",
   "execution_count": 409,
   "id": "cd2755e4-60af-4c4e-8a80-d257c03bcc18",
   "metadata": {},
   "outputs": [
    {
     "name": "stdout",
     "output_type": "stream",
     "text": [
      "+-----------+------------+------------+------+---+------------+------------+----------------+-------------+--------+---------+---------+\n",
      "|customer_id|credit_score|home_country|gender|age|years_stayed|bank_balance|no_products_used|hasCreditCard|isActive|   salary|isChurned|\n",
      "+-----------+------------+------------+------+---+------------+------------+----------------+-------------+--------+---------+---------+\n",
      "|   15765173|         350|      France|Female| 60|           3|         0.0|               1|            0|       0|113796.15|        1|\n",
      "|   15668309|         350|      France|Female| 40|           0|   111098.85|               1|            1|       1|172321.21|        1|\n",
      "|   15758813|         350|     Germany|  Male| 39|           0|    109733.2|               2|            0|       0|123602.11|        1|\n",
      "|   15685372|         350|       Spain|  Male| 54|           1|   152677.48|               1|            1|       1|191973.49|        1|\n",
      "|   15803202|         350|      France|  Male| 51|          10|         0.0|               1|            1|       1|125823.79|        1|\n",
      "|   15679249|         351|     Germany|Female| 57|           4|   163146.46|               1|            1|       0|169621.69|        1|\n",
      "|   15692416|         358|       Spain|Female| 52|           8|   143542.36|               3|            1|       0|141959.11|        1|\n",
      "|   15612494|         359|      France|Female| 44|           6|   128747.69|               1|            1|       0|146955.71|        1|\n",
      "|   15779947|         363|       Spain|Female| 28|           6|   146098.43|               3|            1|       0|100615.14|        1|\n",
      "|   15597896|         365|     Germany|  Male| 30|           0|   127760.07|               1|            1|       0| 81537.85|        1|\n",
      "|   15791533|         367|       Spain|  Male| 42|           6|    93608.28|               1|            1|       0|168816.73|        1|\n",
      "|   15734711|         373|      France|  Male| 42|           7|         0.0|               1|            1|       0| 77786.37|        1|\n",
      "|   15804586|         376|      France|Female| 46|           6|         0.0|               1|            1|       0|157333.69|        1|\n",
      "|   15656148|         376|     Germany|Female| 29|           4|   115046.74|               4|            1|       0|119346.88|        1|\n",
      "|   15792650|         382|       Spain|  Male| 36|           0|         0.0|               1|            1|       1|179540.73|        1|\n",
      "|   15642821|         383|       Spain|Female| 48|           8|    95808.19|               1|            0|       0|137702.01|        1|\n",
      "|   15732643|         386|       Spain|Female| 53|           1|   131955.07|               1|            1|       1| 62514.65|        1|\n",
      "|   15675337|         395|     Germany|Female| 34|           5|   106011.59|               1|            1|       1| 17376.57|        1|\n",
      "|   15651052|         399|     Germany|  Male| 46|           2|   127655.22|               1|            1|       0|139994.68|        1|\n",
      "|   15753332|         401|     Germany|  Male| 48|           8|   128140.17|               1|            1|       0|175753.55|        1|\n",
      "+-----------+------------+------------+------+---+------------+------------+----------------+-------------+--------+---------+---------+\n",
      "only showing top 20 rows\n",
      "\n"
     ]
    }
   ],
   "source": [
    "bank_churned_optimized.orderBy('credit_score', ascending = True).show()"
   ]
  },
  {
   "cell_type": "markdown",
   "id": "e9f80cc7-1683-4293-9542-4c5af4d87489",
   "metadata": {},
   "source": [
    "Điểm tín dụng trông có vẻ rất oke rồi."
   ]
  },
  {
   "cell_type": "markdown",
   "id": "12e0ef6c-dffa-4a57-9276-96c8cbc4c817",
   "metadata": {},
   "source": [
    "#### 4.4. 'home_country'"
   ]
  },
  {
   "cell_type": "markdown",
   "id": "3b8af994-07f0-417c-be61-3b7ec65935f5",
   "metadata": {},
   "source": [
    "Cột này thì nên check unique sẽ ổn nhất."
   ]
  },
  {
   "cell_type": "code",
   "execution_count": 417,
   "id": "da869c21-1094-42b1-b677-3d16afd2985d",
   "metadata": {},
   "outputs": [
    {
     "name": "stdout",
     "output_type": "stream",
     "text": [
      "+------------+\n",
      "|home_country|\n",
      "+------------+\n",
      "|       Spain|\n",
      "|     Unknown|\n",
      "|      France|\n",
      "|     Germany|\n",
      "+------------+\n",
      "\n"
     ]
    }
   ],
   "source": [
    "bank_churned_optimized.select(\n",
    "    col('home_country')\n",
    ").distinct().show()"
   ]
  },
  {
   "cell_type": "markdown",
   "id": "c8cadb9c-6930-4a1f-9a60-adfe512e8310",
   "metadata": {},
   "source": [
    "4 giá trị rất đáng yêu rồi!"
   ]
  },
  {
   "cell_type": "markdown",
   "id": "3c8a4ebe-cf15-4aeb-acb1-6afc9176705f",
   "metadata": {},
   "source": [
    "#### 4.5. 'gender'"
   ]
  },
  {
   "cell_type": "markdown",
   "id": "4781f70d-09f9-4cb8-aa35-7211ecb0e27d",
   "metadata": {},
   "source": [
    "Từ cột này thì cột nào có vấn đề mới có nói gì tiếp á không thì thôi."
   ]
  },
  {
   "cell_type": "code",
   "execution_count": 425,
   "id": "08733e67-92c9-4038-94d9-d5989ee3bb50",
   "metadata": {},
   "outputs": [
    {
     "name": "stdout",
     "output_type": "stream",
     "text": [
      "+------+\n",
      "|gender|\n",
      "+------+\n",
      "|Female|\n",
      "|  Male|\n",
      "+------+\n",
      "\n"
     ]
    }
   ],
   "source": [
    "bank_churned_optimized.select(\n",
    "    col('gender')\n",
    ").distinct().show()"
   ]
  },
  {
   "cell_type": "markdown",
   "id": "7956d09e-9155-4ae6-9562-d3d0ce571d5e",
   "metadata": {},
   "source": [
    "#### 4.6. 'age'"
   ]
  },
  {
   "cell_type": "code",
   "execution_count": 429,
   "id": "774d06b2-3f69-4bf1-b9ab-3ff33a2c0040",
   "metadata": {},
   "outputs": [
    {
     "name": "stdout",
     "output_type": "stream",
     "text": [
      "+-----------+------------+------------+------+---+------------+------------+----------------+-------------+--------+---------+---------+\n",
      "|customer_id|credit_score|home_country|gender|age|years_stayed|bank_balance|no_products_used|hasCreditCard|isActive|   salary|isChurned|\n",
      "+-----------+------------+------------+------+---+------------+------------+----------------+-------------+--------+---------+---------+\n",
      "|   15641688|         644|       Spain|  Male| 18|           7|         0.0|               1|            0|       1| 59645.24|        1|\n",
      "|   15665521|         642|     Germany|  Male| 18|           5|   111183.53|               2|            0|       1| 10063.75|        0|\n",
      "|   15673180|         727|     Germany|Female| 18|           2|     93816.7|               2|            1|       0|126172.11|        0|\n",
      "|   15787619|         844|      France|  Male| 18|           2|   160980.03|               1|            0|       0|145936.28|        0|\n",
      "|   15757821|         771|       Spain|  Male| 18|           1|         0.0|               2|            0|       0| 41542.95|        0|\n",
      "|   15634146|         835|     Germany|  Male| 18|           2|   142872.36|               1|            1|       1|117632.63|        0|\n",
      "|   15758372|         674|      France|  Male| 18|           7|         0.0|               2|            1|       1| 55753.12|        1|\n",
      "|   15728829|         509|      France|  Male| 18|           7|   102983.91|               1|            1|       0|171770.58|        0|\n",
      "|   15621893|         727|      France|  Male| 18|           4|   133550.67|               1|            1|       1| 46941.41|        0|\n",
      "|   15657779|         806|       Spain|  Male| 18|           3|         0.0|               2|            1|       1| 86994.54|        0|\n",
      "|   15796231|         681|      France|Female| 18|           1|    98894.39|               1|            1|       1|   9596.4|        0|\n",
      "|   15570086|         684|     Germany|  Male| 18|           9|     90544.0|               1|            0|       1|  4777.23|        0|\n",
      "|   15619892|         644|       Spain|  Male| 18|           8|         0.0|               2|            1|       0| 59172.42|        0|\n",
      "|   15722701|         594|     Germany|  Male| 18|           1|   132694.73|               1|            1|       0|167689.56|        0|\n",
      "|   15795519|         716|     Germany|Female| 18|           3|    128743.8|               1|            0|       0|197322.13|        0|\n",
      "|   15665327|         706|      France|  Male| 18|           2|    176139.5|               2|            1|       0|129654.22|        0|\n",
      "|   15759133|         616|      France|  Male| 18|           6|         0.0|               2|            1|       1| 27308.58|        0|\n",
      "|   15770309|         656|      France|  Male| 18|          10|   151762.74|               1|            0|       1|127014.32|        0|\n",
      "|   15569178|         570|      France|Female| 18|           4|    82767.42|               1|            1|       0|  71811.9|        0|\n",
      "|   15805764|         646|      France|  Male| 18|          10|         0.0|               2|            0|       1| 52795.15|        0|\n",
      "+-----------+------------+------------+------+---+------------+------------+----------------+-------------+--------+---------+---------+\n",
      "only showing top 20 rows\n",
      "\n"
     ]
    }
   ],
   "source": [
    "bank_churned_optimized.orderBy('age', ascending = True).show()"
   ]
  },
  {
   "cell_type": "code",
   "execution_count": 431,
   "id": "cd021aae-a8f6-47e2-91a7-ef7f4bb6d156",
   "metadata": {},
   "outputs": [
    {
     "name": "stdout",
     "output_type": "stream",
     "text": [
      "+-----------+------------+------------+------+---+------------+------------+----------------+-------------+--------+---------+---------+\n",
      "|customer_id|credit_score|home_country|gender|age|years_stayed|bank_balance|no_products_used|hasCreditCard|isActive|   salary|isChurned|\n",
      "+-----------+------------+------------+------+---+------------+------------+----------------+-------------+--------+---------+---------+\n",
      "|   15764927|         753|      France|  Male| 92|           3|   121513.31|               1|            0|       1|195563.99|        0|\n",
      "|   15660878|         705|      France|  Male| 92|           1|   126076.24|               2|            1|       1| 34436.83|        0|\n",
      "|   15813303|         513|       Spain|  Male| 88|          10|         0.0|               2|            1|       1| 52952.24|        0|\n",
      "|   15578006|         787|      France|Female| 85|          10|         0.0|               2|            1|       1|116537.96|        0|\n",
      "|   15798024|         537|     Germany|  Male| 84|           8|    92242.34|               1|            1|       1|186235.98|        0|\n",
      "|   15653251|         408|      France|Female| 84|           8|    87873.39|               1|            0|       0|188484.52|        1|\n",
      "|   15621644|         678|     Germany|  Male| 83|           6|   123356.63|               1|            0|       1| 92934.41|        0|\n",
      "|   15810864|         700|      France|Female| 82|           2|         0.0|               2|            0|       1|182055.36|        0|\n",
      "|   15800554|         850|      France|Female| 81|           1|         0.0|               2|            1|       1| 59568.24|        0|\n",
      "|   15731569|         850|      France|  Male| 81|           5|         0.0|               2|            1|       1| 44827.47|        0|\n",
      "|   15772341|         682|     Germany|  Male| 81|           6|   122029.15|               1|            1|       1| 50783.88|        0|\n",
      "|   15620443|         711|      France|Female| 81|           6|         0.0|               2|            1|       1| 72276.24|        0|\n",
      "|   15712287|         652|      France|Female| 80|           4|         0.0|               2|            1|       1|188603.07|        0|\n",
      "|   15763097|         809|       Spain|  Male| 80|           8|         0.0|               2|            0|       1| 34164.05|        0|\n",
      "|   15655171|         624|      France|  Male| 80|           3|         0.0|               1|            1|       1| 65801.44|        0|\n",
      "|   15717879|         712|       Spain|Female| 79|           5|   108078.56|               1|            1|       1|174118.93|        0|\n",
      "|   15793726|         681|      France|Female| 79|           0|         0.0|               2|            0|       1|170968.99|        0|\n",
      "|   15808389|         617|      France|Female| 79|           7|         0.0|               1|            1|       1|160589.18|        0|\n",
      "|   15628999|         732|      France|  Male| 79|          10|    61811.23|               1|            1|       1| 104222.8|        0|\n",
      "|   15644103|         659|       Spain|  Male| 78|           2|   151675.65|               1|            0|       1| 49978.67|        0|\n",
      "+-----------+------------+------------+------+---+------------+------------+----------------+-------------+--------+---------+---------+\n",
      "only showing top 20 rows\n",
      "\n"
     ]
    }
   ],
   "source": [
    "bank_churned_optimized.orderBy('age', ascending = False).show()"
   ]
  },
  {
   "cell_type": "markdown",
   "id": "0963f95f-d15e-4a82-8f05-9c8fe7276459",
   "metadata": {},
   "source": [
    "#### 4.6. 'years_stayed'"
   ]
  },
  {
   "cell_type": "code",
   "execution_count": 436,
   "id": "4a074411-6e58-4805-bb83-5eb855e12e68",
   "metadata": {},
   "outputs": [
    {
     "name": "stdout",
     "output_type": "stream",
     "text": [
      "+-----------+------------+------------+------+---+------------+------------+----------------+-------------+--------+---------+---------+\n",
      "|customer_id|credit_score|home_country|gender|age|years_stayed|bank_balance|no_products_used|hasCreditCard|isActive|   salary|isChurned|\n",
      "+-----------+------------+------------+------+---+------------+------------+----------------+-------------+--------+---------+---------+\n",
      "|   15801265|         689|       Spain|Female| 45|           0|    57784.22|               1|            1|       0| 197804.0|        1|\n",
      "|   15709523|         525|     Germany|Female| 30|           0|   157989.21|               2|            1|       1|100687.67|        0|\n",
      "|   15635078|         714|       Spain|  Male| 45|           0|   124693.48|               1|            0|       1|187194.15|        0|\n",
      "|   15658929|         683|       Spain|  Male| 29|           0|   133702.89|               1|            1|       0| 55582.54|        1|\n",
      "|   15782659|         527|      France|  Male| 32|           0|         0.0|               1|            1|       0|109523.88|        0|\n",
      "|   15745295|         727|       Spain|Female| 31|           0|         0.0|               1|            1|       0|121751.04|        1|\n",
      "|   15690231|         612|       Spain|Female| 62|           0|   167026.61|               2|            1|       1|192892.05|        0|\n",
      "|   15616709|         587|     Germany|Female| 38|           0|   132122.42|               2|            0|       0| 31730.32|        0|\n",
      "|   15687130|         686|      France|Female| 43|           0|         0.0|               1|            1|       1| 170072.9|        0|\n",
      "|   15678626|         538|       Spain|Female| 31|           0|         0.0|               2|            0|       0|179453.66|        0|\n",
      "|   15784301|         850|      France|  Male| 42|           0|         0.0|               2|            1|       0| 44165.84|        0|\n",
      "|   15715796|         728|      France|  Male| 37|           0|         0.0|               2|            1|       1|  72203.8|        0|\n",
      "|   15794273|         604|      France|Female| 56|           0|    62732.65|               1|            0|       1|124954.56|        0|\n",
      "|   15630363|         437|      France|Female| 39|           0|   102721.49|               1|            0|       0| 22191.82|        0|\n",
      "|   15765297|         766|       Spain|  Male| 41|           0|         0.0|               2|            0|       1| 34283.23|        0|\n",
      "|   15661007|         660|      France|  Male| 33|           0|    72783.42|               1|            0|       0|181051.99|        0|\n",
      "|   15704954|         431|      France|  Male| 37|           0|   120764.08|               1|            1|       1|117023.08|        0|\n",
      "|   15754113|         588|      France|Female| 35|           0|         0.0|               2|            1|       1|155485.24|        0|\n",
      "|   15787529|         592|       Spain|  Male| 38|           0|         0.0|               1|            1|       0| 65986.48|        1|\n",
      "|   15764448|         837|     Germany|  Male| 35|           0|    144037.6|               1|            1|       0|145325.32|        0|\n",
      "+-----------+------------+------------+------+---+------------+------------+----------------+-------------+--------+---------+---------+\n",
      "only showing top 20 rows\n",
      "\n"
     ]
    }
   ],
   "source": [
    "bank_churned_optimized.orderBy('years_stayed', ascending = True).show()"
   ]
  },
  {
   "cell_type": "code",
   "execution_count": 438,
   "id": "f291e147-59ee-41da-81da-94cd6f621960",
   "metadata": {},
   "outputs": [
    {
     "name": "stdout",
     "output_type": "stream",
     "text": [
      "+-----------+------------+------------+------+---+------------+------------+----------------+-------------+--------+---------+---------+\n",
      "|customer_id|credit_score|home_country|gender|age|years_stayed|bank_balance|no_products_used|hasCreditCard|isActive|   salary|isChurned|\n",
      "+-----------+------------+------------+------+---+------------+------------+----------------+-------------+--------+---------+---------+\n",
      "|   15747724|         671|       Spain|Female| 34|          10|         0.0|               1|            1|       0| 23235.38|        0|\n",
      "|   15598161|         654|      France|  Male| 47|          10|         0.0|               2|            1|       0|170481.98|        0|\n",
      "|   15744582|         680|      France|Female| 24|          10|         0.0|               3|            1|       0|154971.63|        1|\n",
      "|   15760085|         684|     Germany|Female| 48|          10|   126384.42|               1|            1|       1|198129.36|        0|\n",
      "|   15595388|         594|      France|Female| 30|          10|         0.0|               2|            1|       1|124071.71|        0|\n",
      "|   15568240|         492|     Germany|Female| 30|          10|    77168.87|               2|            0|       1|146700.22|        0|\n",
      "|   15812513|         599|     Germany|  Male| 45|          10|   103583.05|               1|            1|       0|132127.69|        1|\n",
      "|   15629117|         584|      France|  Male| 28|          10|         0.0|               2|            1|       0| 19834.32|        0|\n",
      "|   15642725|         797|      France|  Male| 32|          10|    114084.6|               1|            0|       1|125782.29|        0|\n",
      "|   15571778|         817|      France|Female| 55|          10|   117561.49|               1|            1|       0| 95941.55|        1|\n",
      "|   15578006|         787|      France|Female| 85|          10|         0.0|               2|            1|       1|116537.96|        0|\n",
      "|   15615456|         680|      France|Female| 37|          10|   123806.28|               1|            1|       0| 81776.84|        1|\n",
      "|   15753874|         694|      France|  Male| 37|          10|   143835.47|               1|            0|       1| 33326.71|        0|\n",
      "|   15691952|         676|      France|  Male| 37|          10|   106242.67|               1|            1|       1|166678.28|        0|\n",
      "|   15684319|         780|     Germany|Female| 37|          10|    95196.26|               1|            1|       0|126310.39|        1|\n",
      "|   15741092|         671|       Spain|  Male| 34|          10|   153360.02|               1|            1|       0|140509.86|        0|\n",
      "|   15733247|         850|      France|  Male| 33|          10|         0.0|               1|            1|       0|  4861.72|        1|\n",
      "|   15750299|         746|       Spain|  Male| 24|          10|    68781.82|               1|            0|       1| 47997.39|        0|\n",
      "|   15702430|         548|      France|Female| 35|          10|         0.0|               1|            1|       1| 31299.71|        0|\n",
      "|   15728078|         609|      France|  Male| 26|          10|   126392.18|               1|            0|       1| 43651.49|        0|\n",
      "+-----------+------------+------------+------+---+------------+------------+----------------+-------------+--------+---------+---------+\n",
      "only showing top 20 rows\n",
      "\n"
     ]
    }
   ],
   "source": [
    "bank_churned_optimized.orderBy('years_stayed', ascending = False).show()"
   ]
  },
  {
   "cell_type": "code",
   "execution_count": null,
   "id": "3cd69179-5ca1-4b15-90f2-ab4aa8d1d68c",
   "metadata": {},
   "outputs": [],
   "source": []
  }
 ],
 "metadata": {
  "kernelspec": {
   "display_name": "Python [conda env:base] *",
   "language": "python",
   "name": "conda-base-py"
  },
  "language_info": {
   "codemirror_mode": {
    "name": "ipython",
    "version": 3
   },
   "file_extension": ".py",
   "mimetype": "text/x-python",
   "name": "python",
   "nbconvert_exporter": "python",
   "pygments_lexer": "ipython3",
   "version": "3.12.7"
  }
 },
 "nbformat": 4,
 "nbformat_minor": 5
}
